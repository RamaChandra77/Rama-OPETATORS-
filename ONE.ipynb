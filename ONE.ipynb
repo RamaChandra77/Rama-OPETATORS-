{
 "cells": [
  {
   "cell_type": "code",
   "execution_count": null,
   "id": "fd20ad99-e951-4814-a3aa-d560378eaaa8",
   "metadata": {},
   "outputs": [],
   "source": []
  },
  {
   "cell_type": "code",
   "execution_count": 1,
   "id": "b9934227-8a54-48f0-8ebf-f68922261f89",
   "metadata": {},
   "outputs": [
    {
     "name": "stdout",
     "output_type": "stream",
     "text": [
      "hello rama\n"
     ]
    }
   ],
   "source": [
    "print(\"hello rama\")"
   ]
  },
  {
   "cell_type": "code",
   "execution_count": 6,
   "id": "8fab7d83-f0e2-4029-9ec7-2c8f6284c271",
   "metadata": {},
   "outputs": [
    {
     "data": {
      "text/plain": [
       "'C:\\\\Users\\\\RamaB\\\\PYTHONINTERN'"
      ]
     },
     "execution_count": 6,
     "metadata": {},
     "output_type": "execute_result"
    }
   ],
   "source": [
    "pwd #Present working directori"
   ]
  },
  {
   "cell_type": "code",
   "execution_count": 2,
   "id": "723c0382-8e96-411b-8a37-89d5cf651df9",
   "metadata": {},
   "outputs": [
    {
     "name": "stdout",
     "output_type": "stream",
     "text": [
      "5\n"
     ]
    }
   ],
   "source": [
    "print(5)"
   ]
  },
  {
   "cell_type": "markdown",
   "id": "1a1822e0-9c1e-46fe-8825-0da4c569db1c",
   "metadata": {},
   "source": [
    "SHIFT + ENTER"
   ]
  },
  {
   "cell_type": "markdown",
   "id": "481c6005-1542-4c73-97d8-9d57d200090c",
   "metadata": {},
   "source": [
    "### OR USE RUN BUTTON"
   ]
  },
  {
   "cell_type": "markdown",
   "id": "17ccd6c9-ecb5-4fb0-ac64-53a2e303e28b",
   "metadata": {},
   "source": [
    "## OR USE RUN BUTTON"
   ]
  },
  {
   "cell_type": "markdown",
   "id": "51e01c80-d421-4731-8d6b-acf975d7d098",
   "metadata": {},
   "source": [
    "print(\"hello rama\")"
   ]
  },
  {
   "cell_type": "code",
   "execution_count": 5,
   "id": "7f3b9160-6549-4523-9620-305c29066a0f",
   "metadata": {},
   "outputs": [
    {
     "data": {
      "text/plain": [
       "17"
      ]
     },
     "execution_count": 5,
     "metadata": {},
     "output_type": "execute_result"
    }
   ],
   "source": [
    "a=8\n",
    "b=9\n",
    "a+b"
   ]
  },
  {
   "cell_type": "code",
   "execution_count": 1,
   "id": "60ec663a-0542-4b10-a116-1fbdd38f0378",
   "metadata": {},
   "outputs": [
    {
     "data": {
      "text/plain": [
       "6"
      ]
     },
     "execution_count": 1,
     "metadata": {},
     "output_type": "execute_result"
    }
   ],
   "source": [
    "AN=1\n",
    "b=5\n",
    "AN + b"
   ]
  },
  {
   "cell_type": "code",
   "execution_count": 2,
   "id": "ea2aeb2f-bc9f-4fc7-a0fb-bea1807f2997",
   "metadata": {},
   "outputs": [
    {
     "data": {
      "text/plain": [
       "'This is second class\\nof the python internship batch \\nand we are studying about variables and identifier'"
      ]
     },
     "execution_count": 2,
     "metadata": {},
     "output_type": "execute_result"
    }
   ],
   "source": [
    "AN=1 #This is variable declar\n",
    "b=5\n",
    "AN + b #Doing summation of two variables\n",
    "\"\"\"This is second class\n",
    "of the python internship batch \n",
    "and we are studying about variables and identifier\"\"\""
   ]
  },
  {
   "cell_type": "code",
   "execution_count": 3,
   "id": "26aa8bd6-2f06-4a83-8e7e-9d1a99b3627f",
   "metadata": {},
   "outputs": [
    {
     "data": {
      "text/plain": [
       "6"
      ]
     },
     "execution_count": 3,
     "metadata": {},
     "output_type": "execute_result"
    }
   ],
   "source": [
    "\"\"\"This is second class\n",
    "of the python internship batch \n",
    "and we are studying about variables and identifier\"\"\"\n",
    "AN=1 #This is variable declar\n",
    "b=5\n",
    "AN + b #Doing summation of two variables"
   ]
  },
  {
   "cell_type": "code",
   "execution_count": 4,
   "id": "658ac0f3-5ae5-43ad-ad19-49bb7346c42d",
   "metadata": {},
   "outputs": [
    {
     "name": "stdout",
     "output_type": "stream",
     "text": [
      "6\n"
     ]
    },
    {
     "data": {
      "text/plain": [
       "'This is second class\\nof the python internship batch \\nand we are studying about variables and identifier'"
      ]
     },
     "execution_count": 4,
     "metadata": {},
     "output_type": "execute_result"
    }
   ],
   "source": [
    "AN=1 #This is variable declar\n",
    "b=5\n",
    "print(AN + b) #Doing summation of two variables\n",
    "\"\"\"This is second class\n",
    "of the python internship batch \n",
    "and we are studying about variables and identifier\"\"\""
   ]
  },
  {
   "cell_type": "code",
   "execution_count": 5,
   "id": "6e305645-6987-47ed-97df-b065a6044185",
   "metadata": {},
   "outputs": [
    {
     "name": "stdout",
     "output_type": "stream",
     "text": [
      "The sumation is- 120\n"
     ]
    }
   ],
   "source": [
    "z = 55\n",
    "c = 65\n",
    "u = z+c\n",
    "u\n",
    "print(\"The sumation is-\",z+c)"
   ]
  },
  {
   "cell_type": "code",
   "execution_count": 9,
   "id": "4721350c-06ee-405b-b227-646948152198",
   "metadata": {},
   "outputs": [
    {
     "name": "stdout",
     "output_type": "stream",
     "text": [
      "The sumation is- 40\n"
     ]
    },
    {
     "data": {
      "text/plain": [
       "40"
      ]
     },
     "execution_count": 9,
     "metadata": {},
     "output_type": "execute_result"
    }
   ],
   "source": [
    "z = 15\n",
    "c = 25\n",
    "u = z+c\n",
    "u\n",
    "print(\"The sumation is-\",z+c)\n",
    "u"
   ]
  },
  {
   "cell_type": "code",
   "execution_count": 6,
   "id": "762dc3b8-f216-4059-8951-13b667cb3100",
   "metadata": {},
   "outputs": [
    {
     "name": "stdout",
     "output_type": "stream",
     "text": [
      "The sumation is- 120\n"
     ]
    },
    {
     "data": {
      "text/plain": [
       "120"
      ]
     },
     "execution_count": 6,
     "metadata": {},
     "output_type": "execute_result"
    }
   ],
   "source": [
    "z = 55\n",
    "c = 65\n",
    "v = 8958\n",
    "u = z+c\n",
    "print(\"The sumation is-\",z+c)\n",
    "v\n",
    "u"
   ]
  },
  {
   "cell_type": "code",
   "execution_count": 7,
   "id": "2046926b-77d2-4599-96ce-c01dccb75681",
   "metadata": {},
   "outputs": [
    {
     "name": "stdout",
     "output_type": "stream",
     "text": [
      "The sumation is- 130\n"
     ]
    },
    {
     "data": {
      "text/plain": [
       "2558"
      ]
     },
     "execution_count": 7,
     "metadata": {},
     "output_type": "execute_result"
    }
   ],
   "source": [
    "z = 95\n",
    "c = 35\n",
    "v = 2558\n",
    "u = z+c\n",
    "u\n",
    "print(\"The sumation is-\",z+c)\n",
    "v"
   ]
  },
  {
   "cell_type": "code",
   "execution_count": 12,
   "id": "bed98537-5422-445f-bf09-959c7e6eda9a",
   "metadata": {},
   "outputs": [
    {
     "ename": "SyntaxError",
     "evalue": "invalid decimal literal (3427856042.py, line 1)",
     "output_type": "error",
     "traceback": [
      "\u001b[1;36m  Cell \u001b[1;32mIn[12], line 1\u001b[1;36m\u001b[0m\n\u001b[1;33m    1A = 147\u001b[0m\n\u001b[1;37m    ^\u001b[0m\n\u001b[1;31mSyntaxError\u001b[0m\u001b[1;31m:\u001b[0m invalid decimal literal\n"
     ]
    }
   ],
   "source": [
    "1A = 147\n",
    "1A"
   ]
  },
  {
   "cell_type": "code",
   "execution_count": 13,
   "id": "d13e7d26-97eb-4ee3-b1b7-518ddb46c8d5",
   "metadata": {},
   "outputs": [
    {
     "data": {
      "text/plain": [
       "147"
      ]
     },
     "execution_count": 13,
     "metadata": {},
     "output_type": "execute_result"
    }
   ],
   "source": [
    "_1A = 147\n",
    "_1A"
   ]
  },
  {
   "cell_type": "code",
   "execution_count": 14,
   "id": "ffac4492-7564-4b9c-9027-886dfd34c21b",
   "metadata": {},
   "outputs": [
    {
     "data": {
      "text/plain": [
       "int"
      ]
     },
     "execution_count": 14,
     "metadata": {},
     "output_type": "execute_result"
    }
   ],
   "source": [
    "w = type(_1A)\n",
    "w"
   ]
  },
  {
   "cell_type": "code",
   "execution_count": 15,
   "id": "28824efc-5dbd-4a42-9250-90cceee5bd27",
   "metadata": {},
   "outputs": [
    {
     "name": "stdout",
     "output_type": "stream",
     "text": [
      "<class 'int'>\n"
     ]
    }
   ],
   "source": [
    "print(w)"
   ]
  },
  {
   "cell_type": "code",
   "execution_count": 20,
   "id": "dc98a31f-cadb-494e-bbbc-27392f32f15f",
   "metadata": {},
   "outputs": [
    {
     "data": {
      "text/plain": [
       "'R'"
      ]
     },
     "execution_count": 20,
     "metadata": {},
     "output_type": "execute_result"
    }
   ],
   "source": [
    "_1b = 'R'\n",
    "_1b"
   ]
  },
  {
   "cell_type": "code",
   "execution_count": 18,
   "id": "4f943697-9d39-4440-8e0e-4243bda41592",
   "metadata": {},
   "outputs": [
    {
     "data": {
      "text/plain": [
       "str"
      ]
     },
     "execution_count": 18,
     "metadata": {},
     "output_type": "execute_result"
    }
   ],
   "source": [
    "s = type(_1b)\n",
    "s"
   ]
  },
  {
   "cell_type": "code",
   "execution_count": 22,
   "id": "5d45da54-d713-4144-b1e0-92ce2a1ba43f",
   "metadata": {},
   "outputs": [
    {
     "name": "stdout",
     "output_type": "stream",
     "text": [
      "<class 'str'>\n"
     ]
    }
   ],
   "source": [
    "print(s)"
   ]
  },
  {
   "cell_type": "code",
   "execution_count": 24,
   "id": "9f205bdb-9be4-4989-bc6a-eeb49c3fd5c7",
   "metadata": {},
   "outputs": [
    {
     "name": "stdout",
     "output_type": "stream",
     "text": [
      "['False', 'None', 'True', 'and', 'as', 'assert', 'async', 'await', 'break', 'class', 'continue', 'def', 'del', 'elif', 'else', 'except', 'finally', 'for', 'from', 'global', 'if', 'import', 'in', 'is', 'lambda', 'nonlocal', 'not', 'or', 'pass', 'raise', 'return', 'try', 'while', 'with', 'yield']\n"
     ]
    }
   ],
   "source": [
    "import keyword\n",
    "keywords = keyword.kwlist\n",
    "print(keywords)"
   ]
  },
  {
   "cell_type": "code",
   "execution_count": 25,
   "id": "33d97f7b-7ccb-4770-aab4-3822b0aa9922",
   "metadata": {},
   "outputs": [
    {
     "data": {
      "text/plain": [
       "35"
      ]
     },
     "execution_count": 25,
     "metadata": {},
     "output_type": "execute_result"
    }
   ],
   "source": [
    "len(keywords)"
   ]
  },
  {
   "cell_type": "code",
   "execution_count": 26,
   "id": "9912c7c1-c17f-426c-bca7-fc8bded68a12",
   "metadata": {},
   "outputs": [
    {
     "name": "stdin",
     "output_type": "stream",
     "text": [
      "Enter your company name - OCAC\n"
     ]
    },
    {
     "name": "stdout",
     "output_type": "stream",
     "text": [
      "my Organisation name is -  OCAC\n"
     ]
    }
   ],
   "source": [
    "b = input(\"Enter your company name -\")\n",
    "print(\"my Organisation name is - \",b)"
   ]
  },
  {
   "cell_type": "code",
   "execution_count": 27,
   "id": "a9ec261c-1dd3-4533-a434-352633e74a88",
   "metadata": {},
   "outputs": [
    {
     "name": "stdout",
     "output_type": "stream",
     "text": [
      "OCAC is my Organisation name\n"
     ]
    }
   ],
   "source": [
    "print(b,\"is my Organisation name\")"
   ]
  },
  {
   "cell_type": "code",
   "execution_count": 29,
   "id": "a62d78cc-f039-4ee8-b601-5456d0fdf500",
   "metadata": {},
   "outputs": [
    {
     "name": "stdout",
     "output_type": "stream",
     "text": [
      "I am from  OCAC Where are you from?\n"
     ]
    }
   ],
   "source": [
    "print(\"I am from \",b,\"Where are you from?\")"
   ]
  },
  {
   "cell_type": "code",
   "execution_count": 33,
   "id": "222763d5-29e1-493e-b587-a21761f2269d",
   "metadata": {},
   "outputs": [
    {
     "name": "stdin",
     "output_type": "stream",
     "text": [
      "Enter your company name - OCAC\n",
      "Enter your Employ ID - 7853\n"
     ]
    },
    {
     "name": "stdout",
     "output_type": "stream",
     "text": [
      "my Organisation name is -  OCAC\n",
      "my Organisation name is -  7853\n"
     ]
    }
   ],
   "source": [
    "b = input(\"Enter your company name -\")\n",
    "c = input(\"Enter your Employ ID -\")\n",
    "print(\"my Organisation name is - \",b)\n",
    "print(\"my Organisation name is - \",c)"
   ]
  },
  {
   "cell_type": "code",
   "execution_count": 34,
   "id": "325903b7-e3d8-4cae-8f79-411a52ba79b7",
   "metadata": {},
   "outputs": [
    {
     "name": "stdout",
     "output_type": "stream",
     "text": [
      "I AM FROM MINDTREE and my Employee ID is OCAC\n"
     ]
    }
   ],
   "source": [
    "print(\"I AM FROM {} and my Employee ID is {}\".format(b,c))"
   ]
  },
  {
   "cell_type": "code",
   "execution_count": 4,
   "id": "23e416f1-6798-47e6-a31f-cb4ab0997c23",
   "metadata": {},
   "outputs": [
    {
     "name": "stdout",
     "output_type": "stream",
     "text": [
      "90 79 37\n"
     ]
    }
   ],
   "source": [
    "a = 90\n",
    "b = 79\n",
    "c = 37\n",
    "print(a,b,c)"
   ]
  },
  {
   "cell_type": "code",
   "execution_count": 3,
   "id": "5df1ea2d-e8dd-4517-8f55-c1dba0bd8ca7",
   "metadata": {},
   "outputs": [
    {
     "data": {
      "text/plain": [
       "38"
      ]
     },
     "execution_count": 3,
     "metadata": {},
     "output_type": "execute_result"
    }
   ],
   "source": [
    "A = 38\n",
    "A"
   ]
  },
  {
   "cell_type": "code",
   "execution_count": 39,
   "id": "6a5b563a-8718-4db9-aa16-0ceeb25cb627",
   "metadata": {},
   "outputs": [],
   "source": [
    "del (A)"
   ]
  },
  {
   "cell_type": "code",
   "execution_count": 40,
   "id": "c2158115-6d12-470e-9016-3e24f3ce5685",
   "metadata": {},
   "outputs": [
    {
     "ename": "NameError",
     "evalue": "name 'A' is not defined",
     "output_type": "error",
     "traceback": [
      "\u001b[1;31m---------------------------------------------------------------------------\u001b[0m",
      "\u001b[1;31mNameError\u001b[0m                                 Traceback (most recent call last)",
      "Cell \u001b[1;32mIn[40], line 1\u001b[0m\n\u001b[1;32m----> 1\u001b[0m A\n",
      "\u001b[1;31mNameError\u001b[0m: name 'A' is not defined"
     ]
    }
   ],
   "source": [
    "A"
   ]
  },
  {
   "cell_type": "code",
   "execution_count": 50,
   "id": "75811e3a-bbfa-461d-9712-87117506dbec",
   "metadata": {},
   "outputs": [
    {
     "name": "stdout",
     "output_type": "stream",
     "text": [
      "My fst name is- Rama\n",
      "My fst name is- Siva\n"
     ]
    }
   ],
   "source": [
    "f = \"Rama\"\n",
    "S = \"Siva\"\n",
    "print(\"My fst name is-\",f)\n",
    "print(\"My fst name is-\",S)"
   ]
  },
  {
   "cell_type": "code",
   "execution_count": 51,
   "id": "60a8b7b9-4eda-4aea-b622-9238861092f0",
   "metadata": {},
   "outputs": [
    {
     "data": {
      "text/plain": [
       "'C:\\\\Users\\\\RamaB\\\\PYTHONINTERN'"
      ]
     },
     "execution_count": 51,
     "metadata": {},
     "output_type": "execute_result"
    }
   ],
   "source": [
    "pwd"
   ]
  },
  {
   "cell_type": "code",
   "execution_count": 1,
   "id": "17438eb7-74a8-4752-b846-5b3bf9a8530e",
   "metadata": {},
   "outputs": [
    {
     "name": "stdout",
     "output_type": "stream",
     "text": [
      "54\n"
     ]
    }
   ],
   "source": [
    "a,b,c=20,21,13\n",
    "print(a+b+c)"
   ]
  },
  {
   "cell_type": "code",
   "execution_count": 4,
   "id": "c246e609-dafa-4b11-a31c-0224f308dd94",
   "metadata": {},
   "outputs": [
    {
     "data": {
      "text/plain": [
       "str"
      ]
     },
     "execution_count": 4,
     "metadata": {},
     "output_type": "execute_result"
    }
   ],
   "source": [
    "A=\"Rama\"\n",
    "type(A)"
   ]
  },
  {
   "cell_type": "code",
   "execution_count": 6,
   "id": "147ee137-d3d5-4fc6-8a47-b2e815faaed8",
   "metadata": {},
   "outputs": [
    {
     "data": {
      "text/plain": [
       "str"
      ]
     },
     "execution_count": 6,
     "metadata": {},
     "output_type": "execute_result"
    }
   ],
   "source": [
    "B='l'\n",
    "type(B)"
   ]
  },
  {
   "cell_type": "code",
   "execution_count": 7,
   "id": "d02abcbc-9f5d-45a7-91cc-f7dd7d323a52",
   "metadata": {},
   "outputs": [],
   "source": [
    "def f1():print(\"Good Evening\")   "
   ]
  },
  {
   "cell_type": "code",
   "execution_count": 8,
   "id": "400e9c16-5f8a-4b08-99a9-f75ba10eefe3",
   "metadata": {},
   "outputs": [
    {
     "name": "stdout",
     "output_type": "stream",
     "text": [
      "Good Evening\n"
     ]
    }
   ],
   "source": [
    "f1()"
   ]
  },
  {
   "cell_type": "code",
   "execution_count": 11,
   "id": "c9469c15-3a72-44d6-b02f-ecea4af72de1",
   "metadata": {},
   "outputs": [
    {
     "name": "stdout",
     "output_type": "stream",
     "text": [
      "0\n",
      "1\n",
      "2\n",
      "3\n",
      "4\n",
      "5\n",
      "6\n",
      "7\n",
      "8\n",
      "9\n"
     ]
    }
   ],
   "source": [
    "for i in range(10):print(i)"
   ]
  },
  {
   "cell_type": "code",
   "execution_count": 1,
   "id": "0386304a-dc89-4669-ba47-24828006144c",
   "metadata": {},
   "outputs": [
    {
     "data": {
      "text/plain": [
       "'NIELT'"
      ]
     },
     "execution_count": 1,
     "metadata": {},
     "output_type": "execute_result"
    }
   ],
   "source": [
    " c = 'NIELT'\n",
    "c"
   ]
  },
  {
   "cell_type": "code",
   "execution_count": 2,
   "id": "dd884ef7-546a-44f9-beb3-19038181a710",
   "metadata": {},
   "outputs": [
    {
     "data": {
      "text/plain": [
       "int"
      ]
     },
     "execution_count": 2,
     "metadata": {},
     "output_type": "execute_result"
    }
   ],
   "source": [
    "d = 12\n",
    "type(d)"
   ]
  },
  {
   "cell_type": "code",
   "execution_count": 92,
   "id": "6931b762-6ba4-4f46-ae89-92333431e6fb",
   "metadata": {},
   "outputs": [
    {
     "data": {
      "text/plain": [
       "'MY NAME IS RAMA'"
      ]
     },
     "execution_count": 92,
     "metadata": {},
     "output_type": "execute_result"
    }
   ],
   "source": [
    "#int part\n",
    "A ='MY NAME IS RAMA'\n",
    "A"
   ]
  },
  {
   "cell_type": "code",
   "execution_count": 45,
   "id": "97ab2b93-dac0-4eac-b6f3-2920e83fd664",
   "metadata": {},
   "outputs": [
    {
     "name": "stdout",
     "output_type": "stream",
     "text": [
      "M\n"
     ]
    }
   ],
   "source": [
    "print(A[0])"
   ]
  },
  {
   "cell_type": "code",
   "execution_count": 46,
   "id": "e67cb536-19b4-4760-bafe-9e09730a558c",
   "metadata": {},
   "outputs": [
    {
     "name": "stdout",
     "output_type": "stream",
     "text": [
      "A\n"
     ]
    }
   ],
   "source": [
    "print(A[-1])"
   ]
  },
  {
   "cell_type": "code",
   "execution_count": 47,
   "id": "f6e3d4c4-33bc-4b6c-b0c6-1065362f71af",
   "metadata": {},
   "outputs": [
    {
     "name": "stdout",
     "output_type": "stream",
     "text": [
      "MY NA\n"
     ]
    }
   ],
   "source": [
    "print(A[0:5])"
   ]
  },
  {
   "cell_type": "code",
   "execution_count": 48,
   "id": "01493ce4-d341-4eee-bcd7-906eaa0c35c9",
   "metadata": {},
   "outputs": [
    {
     "data": {
      "text/plain": [
       "' NAME IS RAMA'"
      ]
     },
     "execution_count": 48,
     "metadata": {},
     "output_type": "execute_result"
    }
   ],
   "source": [
    "A[2:]"
   ]
  },
  {
   "cell_type": "code",
   "execution_count": 49,
   "id": "9c016152-107e-4973-8814-52875957fd39",
   "metadata": {},
   "outputs": [
    {
     "data": {
      "text/plain": [
       "'MY NAME IS RAMA'"
      ]
     },
     "execution_count": 49,
     "metadata": {},
     "output_type": "execute_result"
    }
   ],
   "source": [
    "A[:]"
   ]
  },
  {
   "cell_type": "code",
   "execution_count": 50,
   "id": "8cdc1b20-ed1b-4f73-bb87-3a7c1d2fb2a1",
   "metadata": {},
   "outputs": [
    {
     "data": {
      "text/plain": [
       "''"
      ]
     },
     "execution_count": 50,
     "metadata": {},
     "output_type": "execute_result"
    }
   ],
   "source": [
    "A[14:1]"
   ]
  },
  {
   "cell_type": "code",
   "execution_count": 51,
   "id": "bc634a40-0ae8-4f16-9b3b-b8119d1306ce",
   "metadata": {},
   "outputs": [
    {
     "data": {
      "text/plain": [
       "'M A'"
      ]
     },
     "execution_count": 51,
     "metadata": {},
     "output_type": "execute_result"
    }
   ],
   "source": [
    "A[ : : 7]"
   ]
  },
  {
   "cell_type": "code",
   "execution_count": 52,
   "id": "a1808db2-7e66-4f16-9c05-149d239839ef",
   "metadata": {},
   "outputs": [
    {
     "data": {
      "text/plain": [
       "'AS'"
      ]
     },
     "execution_count": 52,
     "metadata": {},
     "output_type": "execute_result"
    }
   ],
   "source": [
    "A[-3:-7:-3]"
   ]
  },
  {
   "cell_type": "code",
   "execution_count": 55,
   "id": "50aa28f2-9da6-4e2d-8232-2a05a25719bd",
   "metadata": {},
   "outputs": [
    {
     "name": "stdout",
     "output_type": "stream",
     "text": [
      "10.5\n",
      "<class 'float'>\n"
     ]
    }
   ],
   "source": [
    "a=10.5\n",
    "print(a)\n",
    "print(type (a))"
   ]
  },
  {
   "cell_type": "code",
   "execution_count": 56,
   "id": "807ad189-9e3e-40ba-9b4a-fa87903f227a",
   "metadata": {},
   "outputs": [
    {
     "name": "stdout",
     "output_type": "stream",
     "text": [
      "False\n",
      "<class 'bool'>\n"
     ]
    }
   ],
   "source": [
    "a=10.5 > 10.50\n",
    "print(a)\n",
    "print(type (a))"
   ]
  },
  {
   "cell_type": "code",
   "execution_count": 58,
   "id": "3d95d777-ea37-48c8-9989-4a5e4665635e",
   "metadata": {},
   "outputs": [
    {
     "name": "stdout",
     "output_type": "stream",
     "text": [
      "True\n",
      "<class 'bool'>\n"
     ]
    }
   ],
   "source": [
    "a=10.5 == 10.50\n",
    "print(a)\n",
    "print(type (a))"
   ]
  },
  {
   "cell_type": "code",
   "execution_count": 59,
   "id": "59938122-5e50-4d9d-b93b-931724a386fc",
   "metadata": {},
   "outputs": [
    {
     "name": "stdout",
     "output_type": "stream",
     "text": [
      "True\n",
      "<class 'bool'>\n"
     ]
    }
   ],
   "source": [
    "a=010.5 == 010.50\n",
    "print(a)\n",
    "print(type (a))"
   ]
  },
  {
   "cell_type": "code",
   "execution_count": 60,
   "id": "ed73a0c0-0a0c-4220-b83d-d75dfd8d332d",
   "metadata": {},
   "outputs": [
    {
     "name": "stdout",
     "output_type": "stream",
     "text": [
      "5\n"
     ]
    }
   ],
   "source": [
    "print(5)"
   ]
  },
  {
   "cell_type": "code",
   "execution_count": 64,
   "id": "5cd2bcd2-7447-45b2-b00e-88ddc3c806df",
   "metadata": {},
   "outputs": [
    {
     "name": "stdout",
     "output_type": "stream",
     "text": [
      "69\n"
     ]
    }
   ],
   "source": [
    "print(0o00105)"
   ]
  },
  {
   "cell_type": "code",
   "execution_count": 65,
   "id": "0efd0605-daca-4b7b-836b-4e74f5afa573",
   "metadata": {},
   "outputs": [
    {
     "name": "stdout",
     "output_type": "stream",
     "text": [
      "5.0\n"
     ]
    }
   ],
   "source": [
    "print(5.0)"
   ]
  },
  {
   "cell_type": "code",
   "execution_count": 67,
   "id": "95dd2194-d691-4eb8-a690-6b1c3b8a8bac",
   "metadata": {},
   "outputs": [
    {
     "name": "stdout",
     "output_type": "stream",
     "text": [
      "5.0\n"
     ]
    }
   ],
   "source": [
    "print(5.00)"
   ]
  },
  {
   "cell_type": "code",
   "execution_count": 66,
   "id": "9cc908ca-91a0-4fe0-94ec-a20072a00cf1",
   "metadata": {},
   "outputs": [
    {
     "name": "stdout",
     "output_type": "stream",
     "text": [
      "15.15\n"
     ]
    }
   ],
   "source": [
    "print(0015.1500)"
   ]
  },
  {
   "cell_type": "code",
   "execution_count": 71,
   "id": "fa20b163-989b-4bd1-8d31-364ef49bb5d2",
   "metadata": {},
   "outputs": [
    {
     "name": "stdout",
     "output_type": "stream",
     "text": [
      "10.0\n"
     ]
    }
   ],
   "source": [
    "a=5\n",
    "b=5.0\n",
    "c=a+b\n",
    "print(c)"
   ]
  },
  {
   "cell_type": "code",
   "execution_count": 73,
   "id": "0a71ace7-fc0c-48f6-b75a-2d654149cf53",
   "metadata": {},
   "outputs": [
    {
     "ename": "TypeError",
     "evalue": "can only concatenate str (not \"float\") to str",
     "output_type": "error",
     "traceback": [
      "\u001b[1;31m---------------------------------------------------------------------------\u001b[0m",
      "\u001b[1;31mTypeError\u001b[0m                                 Traceback (most recent call last)",
      "Cell \u001b[1;32mIn[73], line 3\u001b[0m\n\u001b[0;32m      1\u001b[0m a\u001b[38;5;241m=\u001b[39m\u001b[38;5;124m'\u001b[39m\u001b[38;5;124m5\u001b[39m\u001b[38;5;124m'\u001b[39m\n\u001b[0;32m      2\u001b[0m b\u001b[38;5;241m=\u001b[39m\u001b[38;5;241m5.0\u001b[39m\n\u001b[1;32m----> 3\u001b[0m c\u001b[38;5;241m=\u001b[39ma\u001b[38;5;241m+\u001b[39mb\n\u001b[0;32m      4\u001b[0m \u001b[38;5;28mprint\u001b[39m(c)\n",
      "\u001b[1;31mTypeError\u001b[0m: can only concatenate str (not \"float\") to str"
     ]
    }
   ],
   "source": [
    "a='5'\n",
    "b=5.0\n",
    "c=a+b\n",
    "print(c)"
   ]
  },
  {
   "cell_type": "code",
   "execution_count": 72,
   "id": "b1f6cff2-75b2-46cb-9d37-e0e1171ec2bc",
   "metadata": {},
   "outputs": [
    {
     "name": "stdout",
     "output_type": "stream",
     "text": [
      "55.0\n"
     ]
    }
   ],
   "source": [
    "a='5'\n",
    "b='5.0'\n",
    "c=a+b\n",
    "print(c)"
   ]
  },
  {
   "cell_type": "code",
   "execution_count": 77,
   "id": "8bbba21f-741e-4dcd-adc7-4800cbdebd6a",
   "metadata": {},
   "outputs": [
    {
     "name": "stdout",
     "output_type": "stream",
     "text": [
      "0.0\n"
     ]
    }
   ],
   "source": [
    "b=3.9\n",
    "c=False\n",
    "d=b*c\n",
    "print(d)"
   ]
  },
  {
   "cell_type": "code",
   "execution_count": 78,
   "id": "c35fbd0b-30f2-4198-a748-d8ac567fcf85",
   "metadata": {},
   "outputs": [
    {
     "data": {
      "text/plain": [
       "complex"
      ]
     },
     "execution_count": 78,
     "metadata": {},
     "output_type": "execute_result"
    }
   ],
   "source": [
    "x=20+39j\n",
    "type(x)"
   ]
  },
  {
   "cell_type": "code",
   "execution_count": 79,
   "id": "a91cd14d-f65b-49a2-ac7b-fc8f846c55da",
   "metadata": {},
   "outputs": [
    {
     "data": {
      "text/plain": [
       "20.0"
      ]
     },
     "execution_count": 79,
     "metadata": {},
     "output_type": "execute_result"
    }
   ],
   "source": [
    "x.real"
   ]
  },
  {
   "cell_type": "code",
   "execution_count": 82,
   "id": "982b88d1-b444-460f-a9d8-b43941ebc054",
   "metadata": {},
   "outputs": [
    {
     "data": {
      "text/plain": [
       "39.0"
      ]
     },
     "execution_count": 82,
     "metadata": {},
     "output_type": "execute_result"
    }
   ],
   "source": [
    "x.imag"
   ]
  },
  {
   "cell_type": "code",
   "execution_count": 85,
   "id": "b6337506-21cc-439c-afd7-890395455317",
   "metadata": {},
   "outputs": [
    {
     "data": {
      "text/plain": [
       "complex"
      ]
     },
     "execution_count": 85,
     "metadata": {},
     "output_type": "execute_result"
    }
   ],
   "source": [
    "x=20+(-39j)\n",
    "type(x)"
   ]
  },
  {
   "cell_type": "code",
   "execution_count": 83,
   "id": "3c1dd3ba-a634-4048-91c4-e4a9e269bd07",
   "metadata": {},
   "outputs": [
    {
     "data": {
      "text/plain": [
       "20.0"
      ]
     },
     "execution_count": 83,
     "metadata": {},
     "output_type": "execute_result"
    }
   ],
   "source": [
    "x.real"
   ]
  },
  {
   "cell_type": "code",
   "execution_count": 86,
   "id": "242ad416-87ea-4468-9fe6-a4abd5108b8c",
   "metadata": {},
   "outputs": [
    {
     "data": {
      "text/plain": [
       "-39.0"
      ]
     },
     "execution_count": 86,
     "metadata": {},
     "output_type": "execute_result"
    }
   ],
   "source": [
    "x.imag"
   ]
  },
  {
   "cell_type": "code",
   "execution_count": 88,
   "id": "c9d8bdc4-28bd-4e54-a814-042e8df55077",
   "metadata": {},
   "outputs": [
    {
     "ename": "SyntaxError",
     "evalue": "invalid syntax (3682837658.py, line 1)",
     "output_type": "error",
     "traceback": [
      "\u001b[1;36m  Cell \u001b[1;32mIn[88], line 1\u001b[1;36m\u001b[0m\n\u001b[1;33m    x=20+(-39)j\u001b[0m\n\u001b[1;37m              ^\u001b[0m\n\u001b[1;31mSyntaxError\u001b[0m\u001b[1;31m:\u001b[0m invalid syntax\n"
     ]
    }
   ],
   "source": [
    "x=20+(-39)j\n",
    "type(x)"
   ]
  },
  {
   "cell_type": "code",
   "execution_count": 89,
   "id": "d97535b0-dca9-4d24-8f87-43b5354ae633",
   "metadata": {},
   "outputs": [],
   "source": [
    "x=37+-74j"
   ]
  },
  {
   "cell_type": "code",
   "execution_count": 90,
   "id": "f103a4c0-788f-4c00-b0b0-65e07b4c6858",
   "metadata": {},
   "outputs": [
    {
     "data": {
      "text/plain": [
       "-74.0"
      ]
     },
     "execution_count": 90,
     "metadata": {},
     "output_type": "execute_result"
    }
   ],
   "source": [
    "x.imag"
   ]
  },
  {
   "cell_type": "code",
   "execution_count": 91,
   "id": "53953f02-4bdf-4477-82b7-4e3cec517ce9",
   "metadata": {},
   "outputs": [
    {
     "ename": "SyntaxError",
     "evalue": "invalid decimal literal (3844011110.py, line 1)",
     "output_type": "error",
     "traceback": [
      "\u001b[1;36m  Cell \u001b[1;32mIn[91], line 1\u001b[1;36m\u001b[0m\n\u001b[1;33m    x=20+(-39k)\u001b[0m\n\u001b[1;37m            ^\u001b[0m\n\u001b[1;31mSyntaxError\u001b[0m\u001b[1;31m:\u001b[0m invalid decimal literal\n"
     ]
    }
   ],
   "source": [
    "x=20+(-39k)\n",
    "type(x)"
   ]
  },
  {
   "cell_type": "code",
   "execution_count": 94,
   "id": "6e73034d-9e97-4731-b4a8-ef1a794e7f32",
   "metadata": {},
   "outputs": [
    {
     "data": {
      "text/plain": [
       "505"
      ]
     },
     "execution_count": 94,
     "metadata": {},
     "output_type": "execute_result"
    }
   ],
   "source": [
    "#String Part\n",
    "a=\"505\"\n",
    "int(a)"
   ]
  },
  {
   "cell_type": "code",
   "execution_count": 95,
   "id": "3a2f6437-de6d-4c86-9225-432dc744d5b1",
   "metadata": {},
   "outputs": [
    {
     "data": {
      "text/plain": [
       "505.0"
      ]
     },
     "execution_count": 95,
     "metadata": {},
     "output_type": "execute_result"
    }
   ],
   "source": [
    "a=\"505\"\n",
    "float(a)"
   ]
  },
  {
   "cell_type": "code",
   "execution_count": 96,
   "id": "60fde4d0-51de-4c4b-9422-47ff4c91ed38",
   "metadata": {},
   "outputs": [
    {
     "ename": "ValueError",
     "evalue": "invalid literal for int() with base 10: '505.5'",
     "output_type": "error",
     "traceback": [
      "\u001b[1;31m---------------------------------------------------------------------------\u001b[0m",
      "\u001b[1;31mValueError\u001b[0m                                Traceback (most recent call last)",
      "Cell \u001b[1;32mIn[96], line 2\u001b[0m\n\u001b[0;32m      1\u001b[0m b\u001b[38;5;241m=\u001b[39m\u001b[38;5;124m\"\u001b[39m\u001b[38;5;124m505.5\u001b[39m\u001b[38;5;124m\"\u001b[39m\n\u001b[1;32m----> 2\u001b[0m \u001b[38;5;28mint\u001b[39m(b)\n",
      "\u001b[1;31mValueError\u001b[0m: invalid literal for int() with base 10: '505.5'"
     ]
    }
   ],
   "source": [
    "b=\"505.5\"\n",
    "int(b)"
   ]
  },
  {
   "cell_type": "code",
   "execution_count": 97,
   "id": "e388ee01-2b10-4252-a647-fcdbda2f349f",
   "metadata": {},
   "outputs": [
    {
     "data": {
      "text/plain": [
       "505.5"
      ]
     },
     "execution_count": 97,
     "metadata": {},
     "output_type": "execute_result"
    }
   ],
   "source": [
    "b=\"505.5\"\n",
    "float(b)"
   ]
  },
  {
   "cell_type": "code",
   "execution_count": 98,
   "id": "f05317cf-5e69-410f-8f02-1e66d68bacfb",
   "metadata": {},
   "outputs": [
    {
     "data": {
      "text/plain": [
       "505"
      ]
     },
     "execution_count": 98,
     "metadata": {},
     "output_type": "execute_result"
    }
   ],
   "source": [
    "c=\"505.5\"\n",
    "int(float(a))"
   ]
  },
  {
   "cell_type": "code",
   "execution_count": 1,
   "id": "c3ad4f8b-b0b3-42ee-90c9-033e7eb90cd8",
   "metadata": {},
   "outputs": [
    {
     "ename": "SyntaxError",
     "evalue": "invalid syntax. Perhaps you forgot a comma? (78463473.py, line 1)",
     "output_type": "error",
     "traceback": [
      "\u001b[1;36m  Cell \u001b[1;32mIn[1], line 1\u001b[1;36m\u001b[0m\n\u001b[1;33m    print(\"navin's\"laptop\"\")\u001b[0m\n\u001b[1;37m          ^\u001b[0m\n\u001b[1;31mSyntaxError\u001b[0m\u001b[1;31m:\u001b[0m invalid syntax. Perhaps you forgot a comma?\n"
     ]
    }
   ],
   "source": [
    "print(\"navin's\"laptop\"\")"
   ]
  },
  {
   "cell_type": "code",
   "execution_count": 5,
   "id": "cb78fac8-848f-4a91-b4b1-e332889f2bb4",
   "metadata": {},
   "outputs": [
    {
     "data": {
      "text/plain": [
       "'RAMA\\nRAMA\\nRAMA\\nRAMA\\nRAMA\\nRAMA\\nRAMA\\n'"
      ]
     },
     "execution_count": 5,
     "metadata": {},
     "output_type": "execute_result"
    }
   ],
   "source": [
    "#repeat String\n",
    "\"RAMA\\n\"*7"
   ]
  },
  {
   "cell_type": "code",
   "execution_count": null,
   "id": "b321d0d4-a3a6-4ec4-88c8-61622c95cb4f",
   "metadata": {},
   "outputs": [],
   "source": []
  },
  {
   "cell_type": "code",
   "execution_count": null,
   "id": "ff268403-3628-4683-8986-682e317b46cb",
   "metadata": {},
   "outputs": [],
   "source": []
  },
  {
   "cell_type": "code",
   "execution_count": null,
   "id": "c77da4ea-d099-4e69-b23b-72fc2ae43b44",
   "metadata": {},
   "outputs": [],
   "source": []
  },
  {
   "cell_type": "code",
   "execution_count": 36,
   "id": "793a31e0-25c3-42d0-a271-509da778c8a7",
   "metadata": {},
   "outputs": [
    {
     "name": "stdout",
     "output_type": "stream",
     "text": [
      "Dont disturb others---in the session: 10\n"
     ]
    }
   ],
   "source": [
    "X = 10\n",
    "def f1():print(\"Dont disturb others---in the session:\""
   ]
  },
  {
   "cell_type": "code",
   "execution_count": 12,
   "id": "f2acfcee-346f-4232-a6b2-5b44a0e9c43b",
   "metadata": {},
   "outputs": [
    {
     "name": "stdout",
     "output_type": "stream",
     "text": [
      "2.0\n"
     ]
    }
   ],
   "source": [
    "import math\n",
    "print(math.sqrt(4))"
   ]
  },
  {
   "cell_type": "code",
   "execution_count": 13,
   "id": "14d51fc0-fb8c-424b-9d49-b7a0ac9336ec",
   "metadata": {},
   "outputs": [
    {
     "name": "stdout",
     "output_type": "stream",
     "text": [
      "3.0\n"
     ]
    }
   ],
   "source": [
    "import math\n",
    "print(math.sqrt(9))"
   ]
  },
  {
   "cell_type": "code",
   "execution_count": 14,
   "id": "def3d576-2ce6-4af3-b4f2-18bc6ea8c220",
   "metadata": {},
   "outputs": [
    {
     "name": "stdout",
     "output_type": "stream",
     "text": [
      "1\n"
     ]
    }
   ],
   "source": [
    "from random import*\n",
    "print(randint(0,9))"
   ]
  },
  {
   "cell_type": "code",
   "execution_count": 15,
   "id": "3d3862b7-ccce-4d80-8339-9cc26337e5b6",
   "metadata": {},
   "outputs": [
    {
     "name": "stdout",
     "output_type": "stream",
     "text": [
      "9\n"
     ]
    }
   ],
   "source": [
    "from random import*\n",
    "print(randint(0,9))"
   ]
  },
  {
   "cell_type": "code",
   "execution_count": 16,
   "id": "b997be29-8424-4aeb-a1cc-38c2439bcb87",
   "metadata": {},
   "outputs": [
    {
     "name": "stdout",
     "output_type": "stream",
     "text": [
      "8\n"
     ]
    }
   ],
   "source": [
    "from random import*\n",
    "print(randint(0,9))"
   ]
  },
  {
   "cell_type": "code",
   "execution_count": 17,
   "id": "1f248f1e-b973-4a5c-999d-d0d55bb2bd13",
   "metadata": {},
   "outputs": [
    {
     "name": "stdout",
     "output_type": "stream",
     "text": [
      "2\n"
     ]
    }
   ],
   "source": [
    "from random import*\n",
    "print(randint(0,9))"
   ]
  },
  {
   "cell_type": "code",
   "execution_count": 18,
   "id": "b79420ae-17f6-49e8-80aa-0f857fefd4d3",
   "metadata": {},
   "outputs": [
    {
     "name": "stdout",
     "output_type": "stream",
     "text": [
      "4 8 5\n"
     ]
    }
   ],
   "source": [
    "from random import*\n",
    "print(randint(0,9),randint(0,9),randint(0,9))"
   ]
  },
  {
   "cell_type": "code",
   "execution_count": 24,
   "id": "d69d5446-d4fe-4c36-a373-9740abbbbaf0",
   "metadata": {},
   "outputs": [
    {
     "ename": "IndentationError",
     "evalue": "expected an indented block after 'for' statement on line 2 (2379602872.py, line 3)",
     "output_type": "error",
     "traceback": [
      "\u001b[1;36m  Cell \u001b[1;32mIn[24], line 3\u001b[1;36m\u001b[0m\n\u001b[1;33m    print(randint(0,9),randint(0,9),randint(0,9))\u001b[0m\n\u001b[1;37m    ^\u001b[0m\n\u001b[1;31mIndentationError\u001b[0m\u001b[1;31m:\u001b[0m expected an indented block after 'for' statement on line 2\n"
     ]
    }
   ],
   "source": [
    "from random import*\n",
    "for i in range(4):\n",
    "print(randint(0,9),randint(0,9),randint(0,9))"
   ]
  },
  {
   "cell_type": "code",
   "execution_count": 25,
   "id": "099b64bc-21c1-4a13-a4d0-7b67a5c399f4",
   "metadata": {},
   "outputs": [
    {
     "name": "stdout",
     "output_type": "stream",
     "text": [
      "20\n"
     ]
    }
   ],
   "source": [
    "a=20\n",
    "print(a)"
   ]
  },
  {
   "cell_type": "code",
   "execution_count": 29,
   "id": "285c9386-2b83-4579-84d1-534bc869bc0d",
   "metadata": {},
   "outputs": [
    {
     "data": {
      "text/plain": [
       "140731142489480"
      ]
     },
     "execution_count": 29,
     "metadata": {},
     "output_type": "execute_result"
    }
   ],
   "source": [
    "type(a)\n",
    "id(a)"
   ]
  },
  {
   "cell_type": "code",
   "execution_count": null,
   "id": "e6f8ced2-3032-4eab-8ad1-59f9c336d906",
   "metadata": {},
   "outputs": [],
   "source": [
    "print(\"navin's\"laptop\"\")"
   ]
  },
  {
   "cell_type": "code",
   "execution_count": 9,
   "id": "2c3dc05f-c7d2-4da6-94d3-536a9664d40c",
   "metadata": {},
   "outputs": [
    {
     "data": {
      "text/plain": [
       "['rama', 'gmail.com']"
      ]
     },
     "execution_count": 9,
     "metadata": {},
     "output_type": "execute_result"
    }
   ],
   "source": [
    "A='rama@gmail.com'\n",
    "A.split ('@')"
   ]
  },
  {
   "cell_type": "code",
   "execution_count": 10,
   "id": "a4051423-a2ef-4d5e-921b-9b783d097299",
   "metadata": {},
   "outputs": [
    {
     "name": "stdin",
     "output_type": "stream",
     "text": [
      "Enter your email:- ramachandra@gmail.com\n"
     ]
    }
   ],
   "source": [
    "a=input(\"Enter your email:-\")"
   ]
  },
  {
   "cell_type": "code",
   "execution_count": 11,
   "id": "863293ca-0fe4-4177-aa52-90ab489e9e96",
   "metadata": {},
   "outputs": [
    {
     "data": {
      "text/plain": [
       "['ramachandra', 'gmail.com']"
      ]
     },
     "execution_count": 11,
     "metadata": {},
     "output_type": "execute_result"
    }
   ],
   "source": [
    "a.split('@')"
   ]
  },
  {
   "cell_type": "code",
   "execution_count": 21,
   "id": "4b3871b9-0751-407e-8db2-384e32933fef",
   "metadata": {},
   "outputs": [
    {
     "name": "stdout",
     "output_type": "stream",
     "text": [
      "your user name is:- ['ramachandra', '']\n"
     ]
    }
   ],
   "source": [
    "b=a.split('@gmail.com')\n",
    "print(\"your user name is:-\",b)"
   ]
  },
  {
   "cell_type": "code",
   "execution_count": 23,
   "id": "7c2fe8de-3f3a-44dd-a7fe-2606a8422a7c",
   "metadata": {},
   "outputs": [
    {
     "name": "stdout",
     "output_type": "stream",
     "text": [
      "domain name is:- ['', 'gmail.com']\n"
     ]
    }
   ],
   "source": [
    "c=a.split('ramachandra@')\n",
    "print(\"domain name is:-\",c)"
   ]
  },
  {
   "cell_type": "code",
   "execution_count": 24,
   "id": "47cf4080-f53e-4b00-823f-952630690e58",
   "metadata": {},
   "outputs": [
    {
     "name": "stdin",
     "output_type": "stream",
     "text": [
      "Enter your email id:- ramachandras@gmail.com\n"
     ]
    }
   ],
   "source": [
    "A=input(\"Enter your email id:-\")"
   ]
  },
  {
   "cell_type": "code",
   "execution_count": 35,
   "id": "9b89cad6-7727-46ef-9ebe-b118136699ad",
   "metadata": {},
   "outputs": [
    {
     "name": "stdout",
     "output_type": "stream",
     "text": [
      "ramachandras\n",
      "your user name is:- ramachandras\n",
      "gmail.com\n",
      "your user name is:- gmail.com\n"
     ]
    }
   ],
   "source": [
    "A.split('@')\n",
    "d=A.split('@')\n",
    "e=print(d[0])\n",
    "print(\"your user name is:-\",d[0])\n",
    "f=print(d[1])\n",
    "print(\"your user name is:-\",d[1])"
   ]
  },
  {
   "cell_type": "code",
   "execution_count": null,
   "id": "e7fc81b8-8cec-4059-9f7c-46936620e678",
   "metadata": {},
   "outputs": [],
   "source": [
    "' '.join(['This', 'will', 'split', '"
   ]
  }
 ],
 "metadata": {
  "kernelspec": {
   "display_name": "Python 3 (ipykernel)",
   "language": "python",
   "name": "python3"
  },
  "language_info": {
   "codemirror_mode": {
    "name": "ipython",
    "version": 3
   },
   "file_extension": ".py",
   "mimetype": "text/x-python",
   "name": "python",
   "nbconvert_exporter": "python",
   "pygments_lexer": "ipython3",
   "version": "3.11.7"
  }
 },
 "nbformat": 4,
 "nbformat_minor": 5
}
